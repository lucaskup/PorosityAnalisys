{
 "cells": [
  {
   "cell_type": "code",
   "execution_count": 1,
   "metadata": {},
   "outputs": [],
   "source": [
    "from scipy.stats import skew, kurtosis\n",
    "import seaborn as sns\n",
    "import matplotlib.pyplot as plt\n",
    "import pandas as pd\n",
    "import numpy as np\n",
    "\n",
    "from correlation_matrix import plot_correlation_matrix"
   ]
  },
  {
   "cell_type": "code",
   "execution_count": 2,
   "metadata": {},
   "outputs": [],
   "source": [
    "dataset = pd.read_csv(f'../data/more_data.csv',\n",
    "                      sep=';',\n",
    "                      decimal=',')\n",
    "\n"
   ]
  },
  {
   "cell_type": "code",
   "execution_count": 3,
   "metadata": {},
   "outputs": [],
   "source": [
    "def calculate_stats(porosity_values):\n",
    "    return (round(np.mean(porosity_values), 2),\n",
    "            round(np.median(porosity_values), 2),\n",
    "            round(np.min(porosity_values), 2),\n",
    "            round(np.max(porosity_values), 2),\n",
    "            round(skew(porosity_values, bias=False), 2),\n",
    "            round(kurtosis(porosity_values, bias=False, fisher=True), 2))"
   ]
  },
  {
   "cell_type": "code",
   "execution_count": null,
   "metadata": {},
   "outputs": [],
   "source": [
    "porosity_roncador = dataset[dataset['place']\n",
    "                            == 'Cachoeira_do_Roncador']['Porosity (%)']\n",
    "porosity_sal = dataset[dataset['place'] !=\n",
    "                       'Cachoeira_do_Roncador']['Porosity (%)']\n",
    "\n",
    "for place in ['Cachoeira_do_Roncador', 'Lajedo_Soledade', 'Pedreira_Sal' ]:\n",
    "    porosity = dataset[dataset['place'] == place]['Porosity (%)']\n",
    "    mean_value, median_value, min_value, max_value, skew_value, kurt_value = calculate_stats(\n",
    "    porosity)\n",
    "\n",
    "    print(f'{place} Stats:\\n'\n",
    "        f'mean {mean_value}\\n'\n",
    "        f'median {median_value}\\n'\n",
    "        f'min {min_value}\\n'\n",
    "        f'max {max_value}\\n'\n",
    "        f'skew {skew_value}\\n'\n",
    "        f'kurt {kurt_value}')"
   ]
  }
 ],
 "metadata": {
  "interpreter": {
   "hash": "d4d1e4263499bec80672ea0156c357c1ee493ec2b1c70f0acce89fc37c4a6abe"
  },
  "kernelspec": {
   "display_name": "Python 3.7.10 64-bit ('base': conda)",
   "language": "python",
   "name": "python3"
  },
  "language_info": {
   "codemirror_mode": {
    "name": "ipython",
    "version": 3
   },
   "file_extension": ".py",
   "mimetype": "text/x-python",
   "name": "python",
   "nbconvert_exporter": "python",
   "pygments_lexer": "ipython3",
   "version": "3.7.10"
  },
  "orig_nbformat": 4
 },
 "nbformat": 4,
 "nbformat_minor": 2
}
