{
 "cells": [
  {
   "cell_type": "code",
   "execution_count": 3,
   "metadata": {},
   "outputs": [],
   "source": [
    "from scipy.stats import skew, kurtosis\n",
    "import seaborn as sns\n",
    "import matplotlib.pyplot as plt\n",
    "import pandas as pd\n",
    "import numpy as np\n",
    "\n",
    "from correlation_matrix import plot_correlation_matrix"
   ]
  },
  {
   "cell_type": "code",
   "execution_count": 5,
   "metadata": {},
   "outputs": [],
   "source": [
    "def calculate_stats(df_place):\n",
    "    sample_count = len(df_place.groupby(by='sample_name'))\n",
    "    porosity_values = df_place['Porosity (%)']\n",
    "\n",
    "    return (len(porosity_values),\n",
    "            sample_count,\n",
    "            round(np.mean(porosity_values), 2),\n",
    "            round(np.median(porosity_values), 2),\n",
    "            round(np.min(porosity_values), 2),\n",
    "            round(np.max(porosity_values), 2),\n",
    "            round(skew(porosity_values, bias=False), 2),\n",
    "            round(kurtosis(porosity_values, bias=False, fisher=True), 2))"
   ]
  },
  {
   "cell_type": "code",
   "execution_count": 11,
   "metadata": {},
   "outputs": [],
   "source": [
    "def print_stats(data):\n",
    "    for place in ['Cachoeira_do_Roncador', 'Lajedo_Soledade', 'Pedreira_Sal']:\n",
    "        df_place = data[data['place'] == place]\n",
    "        if len(df_place) > 0:\n",
    "            count_value, sample_count, mean_value, \\\n",
    "                median_value, min_value, max_value, \\\n",
    "                skew_value, kurt_value = calculate_stats(df_place)\n",
    "\n",
    "            print(f'{place} Stats:\\n'\n",
    "                f'  count {count_value}\\n'\n",
    "                f'  sample_count {sample_count}\\n'\n",
    "                f'  mean {mean_value}\\n'\n",
    "                f'  median {median_value}\\n'\n",
    "                f'  min {min_value}\\n'\n",
    "                f'  max {max_value}\\n'\n",
    "                f'  skew {skew_value}\\n'\n",
    "                f'  kurt {kurt_value}\\n')"
   ]
  },
  {
   "cell_type": "code",
   "execution_count": 12,
   "metadata": {},
   "outputs": [
    {
     "name": "stdout",
     "output_type": "stream",
     "text": [
      "Cachoeira_do_Roncador Stats:\n",
      "  count 135\n",
      "  sample_count 27\n",
      "  mean 16.99\n",
      "  median 18.01\n",
      "  min 4.22\n",
      "  max 39.8\n",
      "  skew 0.59\n",
      "  kurt 0.53\n",
      "\n",
      "Lajedo_Soledade Stats:\n",
      "  count 52\n",
      "  sample_count 13\n",
      "  mean 10.61\n",
      "  median 10.07\n",
      "  min 1.74\n",
      "  max 17.67\n",
      "  skew -0.16\n",
      "  kurt -1.06\n",
      "\n",
      "Pedreira_Sal Stats:\n",
      "  count 48\n",
      "  sample_count 19\n",
      "  mean 1.26\n",
      "  median 1.14\n",
      "  min 0.6\n",
      "  max 2.43\n",
      "  skew 0.86\n",
      "  kurt -0.26\n",
      "\n"
     ]
    }
   ],
   "source": [
    "dataset = pd.read_csv(f'../data/all_data.csv',\n",
    "                      sep=';',\n",
    "                      decimal='.')\n",
    "print_stats(dataset)"
   ]
  },
  {
   "cell_type": "code",
   "execution_count": 13,
   "metadata": {},
   "outputs": [
    {
     "name": "stdout",
     "output_type": "stream",
     "text": [
      "Cachoeira_do_Roncador Stats:\n",
      "  count 94\n",
      "  sample_count 14\n",
      "  mean 15.64\n",
      "  median 18.47\n",
      "  min 4.22\n",
      "  max 35.87\n",
      "  skew 0.36\n",
      "  kurt 0.5\n",
      "\n",
      "Pedreira_Sal Stats:\n",
      "  count 48\n",
      "  sample_count 19\n",
      "  mean 1.26\n",
      "  median 1.14\n",
      "  min 0.6\n",
      "  max 2.43\n",
      "  skew 0.86\n",
      "  kurt -0.26\n",
      "\n"
     ]
    }
   ],
   "source": [
    "dataset = pd.read_csv(f'../data/exp1_effective_porosity.csv',\n",
    "                      sep=';',\n",
    "                      decimal='.')\n",
    "print_stats(dataset)"
   ]
  },
  {
   "cell_type": "code",
   "execution_count": 14,
   "metadata": {},
   "outputs": [
    {
     "name": "stdout",
     "output_type": "stream",
     "text": [
      "Cachoeira_do_Roncador Stats:\n",
      "  count 41\n",
      "  sample_count 13\n",
      "  mean 20.09\n",
      "  median 17.53\n",
      "  min 8.31\n",
      "  max 39.8\n",
      "  skew 0.74\n",
      "  kurt -0.18\n",
      "\n",
      "Lajedo_Soledade Stats:\n",
      "  count 52\n",
      "  sample_count 13\n",
      "  mean 10.61\n",
      "  median 10.07\n",
      "  min 1.74\n",
      "  max 17.67\n",
      "  skew -0.16\n",
      "  kurt -1.06\n",
      "\n"
     ]
    }
   ],
   "source": [
    "dataset = pd.read_csv(f'../data/exp2_total_porosity.csv',\n",
    "                      sep=';',\n",
    "                      decimal='.')\n",
    "print_stats(dataset)"
   ]
  }
 ],
 "metadata": {
  "interpreter": {
   "hash": "d4d1e4263499bec80672ea0156c357c1ee493ec2b1c70f0acce89fc37c4a6abe"
  },
  "kernelspec": {
   "display_name": "Python 3.7.10 64-bit ('base': conda)",
   "language": "python",
   "name": "python3"
  },
  "language_info": {
   "codemirror_mode": {
    "name": "ipython",
    "version": 3
   },
   "file_extension": ".py",
   "mimetype": "text/x-python",
   "name": "python",
   "nbconvert_exporter": "python",
   "pygments_lexer": "ipython3",
   "version": "3.7.10"
  },
  "orig_nbformat": 4
 },
 "nbformat": 4,
 "nbformat_minor": 2
}
